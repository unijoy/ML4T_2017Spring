{
 "cells": [
  {
   "cell_type": "code",
   "execution_count": 5,
   "metadata": {
    "collapsed": false
   },
   "outputs": [
    {
     "name": "stdout",
     "output_type": "stream",
     "text": [
      "Optimization terminated successfully.    (Exit mode 0)\n",
      "            Current function value: -2.00401501648\n",
      "            Iterations: 7\n",
      "            Function evaluations: 42\n",
      "            Gradient evaluations: 7\n"
     ]
    },
    {
     "data": {
      "image/png": "[encoded data removed]",
      "text/plain": [
       "<matplotlib.figure.Figure at 0x11582ce50>"
      ]
     },
     "metadata": {},
     "output_type": "display_data"
    },
    {
     "name": "stdout",
     "output_type": "stream",
     "text": [
      "Start Date: 2010-01-01 00:00:00\n",
      "End Date: 2010-12-31 00:00:00\n",
      "Symbols: ['GOOG', 'AAPL', 'GLD', 'XOM']\n",
      "Allocations: [  7.61819506e-17   3.96715090e-01   6.03284910e-01   0.00000000e+00]\n",
      "Sharpe Ratio: 2.00401501648\n",
      "Volatility (stdev of daily returns): 0.0101167115465\n",
      "Average Daily Return: 0.00127714459102\n",
      "Cumulative Return: 0.360103844094\n"
     ]
    }
   ],
   "source": [
    "\"\"\"MC1-P2: Optimize a portfolio.\"\"\"\n",
    "%matplotlib inline\n",
    "\n",
    "import pandas as pd\n",
    "import matplotlib.pyplot as plt\n",
    "import numpy as np\n",
    "import datetime as dt\n",
    "from util import get_data, plot_data\n",
    "import scipy.optimize as spo\n",
    "\n",
    "# This is the function that will be tested by the autograder\n",
    "# The student must update this code to properly implement the functionality\n",
    "def optimize_portfolio(sd=dt.datetime(2008,1,1), ed=dt.datetime(2009,1,1), \\\n",
    "    syms=['GOOG','AAPL','GLD','XOM'], gen_plot=False):\n",
    "\n",
    "    ######### ASSESS PORTFOLIO\n",
    "    def assess_portfolio(sd=dt.datetime(2008, 1, 1), ed=dt.datetime(2009, 1, 1), \\\n",
    "                     syms=['GOOG', 'AAPL', 'GLD', 'XOM'], \\\n",
    "                     allocs=[0.1, 0.2, 0.3, 0.4], rfr=0.0, sf=252.0):\n",
    "        import math\n",
    "        # Read in adjusted closing prices for given symbols, date range\n",
    "        dates = pd.date_range(sd, ed)\n",
    "        prices_all = get_data(syms, dates)  # automatically adds SPY\n",
    "        prices = prices_all[syms]  # only portfolio symbols\n",
    "        prices_SPY = prices_all['SPY']  # only SPY, for comparison later\n",
    "\n",
    "        # Get daily portfolio value\n",
    "        port_val = prices_SPY  # add code here to compute daily portfolio values\n",
    "        df = prices.copy()\n",
    "        df[1:] = (df[1:] / df[0:-1].values)\n",
    "        for j in range(len(allocs)):\n",
    "            df.ix[0, j] = allocs[j]\n",
    "            \n",
    "        allocs = np.asarray([0.2, 0.2, 0.3, 0.3, 0.0]) \n",
    "\n",
    "        days = prices.shape[0]\n",
    "        for i in range(1, days):\n",
    "            df.ix[i, :] = df.ix[i, :] * df.ix[i - 1, :]\n",
    "        df['cumm'] = df.sum(axis=1)\n",
    "        df['daily'] = (df.ix[1:, 'cumm'] / df.ix[0:-1, 'cumm'].values) - 1.\n",
    "        df['daily_rf'] = df['daily'] - rfr ** (1. / days)\n",
    "        sr = math.sqrt(sf) * df['daily_rf'].mean() / df['daily_rf'].std()\n",
    "        cr = df.ix[-1, 'cumm'] - 1\n",
    "        sddr = df.ix[1:, 'daily'].std()\n",
    "        adr = df.ix[1:, 'daily'].mean()\n",
    "        return cr, adr, sddr, sr\n",
    "    \n",
    "    def get_negative_sharpe(allocs,prices ):\n",
    "        import math\n",
    "        rfr=0.0\n",
    "        sf=252.0\n",
    "        df = prices.copy()\n",
    "        df[1:] = (df[1:] / df[0:-1].values)\n",
    "        for j in range(len(allocs)):\n",
    "            df.ix[0, j] = allocs[j]\n",
    "        \n",
    "        days = prices.shape[0]\n",
    "        for i in range(1, days):\n",
    "            df.ix[i, :] = df.ix[i, :] * df.ix[i - 1, :]\n",
    "        df['cumm'] = df.sum(axis=1)\n",
    "        df['daily'] = (df.ix[1:, 'cumm'] / df.ix[0:-1, 'cumm'].values) - 1.\n",
    "        df['daily_rf'] = df['daily'] - rfr ** (1. / days)\n",
    "        return math.sqrt(sf) * df['daily_rf'].mean() / df['daily_rf'].std() *-1.0\n",
    "    \n",
    "    import scipy.optimize as spo\n",
    "    \n",
    "    def min_sharpe(syms,data,error_func):\n",
    "        # Init the allocations for the optimal portfolio\n",
    "        allocs = [0.1 for x in syms]\n",
    "        \n",
    "        #Says one minus the sum of all variables must be zero\n",
    "        cons = ({'type': 'eq', 'fun': lambda x:  1 - sum(x)})\n",
    "\n",
    "        #Required to have non negative values\n",
    "        bnds = tuple((0.0,1.0) for x in allocs)\n",
    "\n",
    "        result = spo.minimize(error_func,allocs,args=(data,),method='SLSQP',options={'disp':True},constraints=cons,bounds=bnds)\n",
    "        return result.x\n",
    "        \n",
    "    # Read in adjusted closing prices for given symbols, date range\n",
    "    dates = pd.date_range(sd, ed)\n",
    "    prices_all = get_data(syms, dates)  # automatically adds SPY\n",
    "    prices = prices_all[syms]  # only portfolio symbols\n",
    "    prices_SPY = prices_all['SPY']  # only SPY, for comparison later\n",
    "    allocs = min_sharpe(syms,prices,get_negative_sharpe)\n",
    "    cr, adr, sddr, sr = assess_portfolio(sd = sd, ed = ed,syms = syms, allocs = allocs)\n",
    "\n",
    "    # Get daily portfolio value\n",
    "    port_val = prices_SPY # add code here to compute daily portfolio values\n",
    "    port_val = prices_all['GOOG'] \n",
    "\n",
    "    # Compare daily portfolio value with SPY using a normalized plot\n",
    "    if gen_plot:\n",
    "        df_temp = pd.concat([port_val, prices_SPY], keys=['Portfolio', 'SPY'], axis=1)\n",
    "        ax = df_temp.plot(title=\"Stock prices\", fontsize=12)\n",
    "        ax.set_xlabel(\"Date\")\n",
    "        ax.set_ylabel(\"Price\")\n",
    "        plt.show()\n",
    "        fig = ax.get_figure()\n",
    "        fig.savefig(\"comparison_optimal.png\")   \n",
    "\n",
    "    return allocs, cr, adr, sddr, sr\n",
    "\n",
    "def test_code():\n",
    "    start_date = dt.datetime(2004,1,1)\n",
    "    end_date = dt.datetime(2006,1,1)\n",
    "    symbols = ['AXP', 'HPQ', 'IBM', 'HNZ']\n",
    "\n",
    "    '''\n",
    "    Start Date: 2004-01-01\n",
    "    End Date: 2006-01-01\n",
    "    Symbols: ['AXP', 'HPQ', 'IBM', 'HNZ']\n",
    "    Optimal allocations: [  7.75113042e-01   2.24886958e-01  -1.18394877e-16  -7.75204553e-17]\n",
    "    Sharpe Ratio: 0.842697383626\n",
    "    Volatility (stdev of daily returns): 0.0093236393828\n",
    "    Average Daily Return: 0.000494944887734\n",
    "    Cumulative Return: 0.255021425162\n",
    "    '''\n",
    "    \n",
    "    # Assess the portfolio\n",
    "    allocations, cr, adr, sddr, sr = optimize_portfolio(sd = start_date, ed = end_date,\\\n",
    "        syms = symbols, \\\n",
    "        gen_plot = True)\n",
    "\n",
    "    # Print statistics\n",
    "    print \"Start Date:\", start_date\n",
    "    print \"End Date:\", end_date\n",
    "    print \"Symbols:\", symbols\n",
    "    print \"Allocations:\", allocations\n",
    "    print \"Sharpe Ratio:\", sr\n",
    "    print \"Volatility (stdev of daily returns):\", sddr\n",
    "    print \"Average Daily Return:\", adr\n",
    "    print \"Cumulative Return:\", cr\n",
    "\n",
    "if __name__ == \"__main__\":\n",
    "    test_code()\n",
    "\n"
   ]
  },
  {
   "cell_type": "code",
   "execution_count": 36,
   "metadata": {
    "collapsed": false
   },
   "outputs": [
    {
     "name": "stdout",
     "output_type": "stream",
     "text": [
      "[ 4.  2.]\n",
      "C0= 4.0  C1= 2.0\n",
      "llllll:  [  0.         22.1931076]\n",
      "data:  [[  0.           7.02936332]\n",
      " [  0.5          4.55673248]\n",
      " [  1.          10.05885484]\n",
      " [  1.5          7.39883473]\n",
      " [  2.           5.13599179]\n",
      " [  2.5         15.87351494]\n",
      " [  3.          15.01188137]\n",
      " [  3.5          9.52024338]\n",
      " [  4.          21.64083406]\n",
      " [  4.5         17.647623  ]\n",
      " [  5.          16.48762293]\n",
      " [  5.5         28.61161909]\n",
      " [  6.          22.0256285 ]\n",
      " [  6.5         24.92090308]\n",
      " [  7.          26.86698546]\n",
      " [  7.5         35.51503637]\n",
      " [  8.          38.09930804]\n",
      " [  8.5         33.35158598]\n",
      " [  9.          40.146016  ]\n",
      " [  9.5         39.77269018]\n",
      " [ 10.          46.38400398]]\n",
      "<function error at 0x115e90aa0>\n",
      "Optimization terminated successfully.    (Exit mode 0)\n",
      "            Current function value: 288.872575962\n",
      "            Iterations: 5\n",
      "            Function evaluations: 24\n",
      "            Gradient evaluations: 5\n",
      "fitted line C0= 3.98493396846  C1= 2.26844452485\n"
     ]
    },
    {
     "data": {
      "text/plain": [
       "[<matplotlib.lines.Line2D at 0x1176de890>]"
      ]
     },
     "execution_count": 36,
     "metadata": {},
     "output_type": "execute_result"
    },
    {
     "data": {
      "image/png": "[encoded data removed]",
      "text/plain": [
       "<matplotlib.figure.Figure at 0x116e6c5d0>"
      ]
     },
     "metadata": {},
     "output_type": "display_data"
    }
   ],
   "source": [
    "def error(line,data):\n",
    "    err = np.sum(( data[:,1] - (line[0] * data[:,0] + line[1]) )**2)\n",
    "    return err\n",
    "\n",
    "def fit_line(data,error_func):\n",
    "    l = np.float32([0,np.mean(data[:,1])])\n",
    "    print 'llllll: ',l\n",
    "    print 'data: ',data\n",
    "    x_ends = np.float32([-5,5])\n",
    "    plt.plot(x_ends,l[0] * x_ends + l[1], 'm--', linewidth=2.0, label='initial guess')\n",
    "    print error_func\n",
    "    result = spo.minimize(error_func,l,args=(data,),method='SLSQP',options={'disp':True})\n",
    "    return result.x\n",
    "    \n",
    "l_orig = np.float32([4,2])\n",
    "print l_orig\n",
    "print 'C0=',l_orig[0],' C1=',l_orig[1]\n",
    "Xorig = np.linspace(0,10,21)\n",
    "Yorig = l_orig[0] * Xorig + l_orig[1]\n",
    "plt.plot(Xorig,Yorig,'b',linewidth=2.0,label='Original Line')\n",
    "\n",
    "noise_signma = 3.0\n",
    "noise = np.random.normal(0,noise_signma,Yorig.shape)\n",
    "data = np.asarray([Xorig,Yorig+noise]).T\n",
    "plt.plot(data[:,0],data[:,1],'go',label='data points')\n",
    "\n",
    "l_fit = fit_line(data,error)\n",
    "print \"fitted line C0=\",l_fit[0], \" C1=\",l_fit[1]\n",
    "plt.plot(data[:,0], l_fit[0]*data[:,0] + l_fit[1], 'r--',linewidth=2.0, label='fitted line')"
   ]
  },
  {
   "cell_type": "code",
   "execution_count": null,
   "metadata": {
    "collapsed": true
   },
   "outputs": [],
   "source": []
  }
 ],
 "metadata": {
  "kernelspec": {
   "display_name": "Python 2",
   "language": "python",
   "name": "python2"
  },
  "language_info": {
   "codemirror_mode": {
    "name": "ipython",
    "version": 2
   },
   "file_extension": ".py",
   "mimetype": "text/x-python",
   "name": "python",
   "nbconvert_exporter": "python",
   "pygments_lexer": "ipython2",
   "version": "2.7.9"
  }
 },
 "nbformat": 4,
 "nbformat_minor": 0
}

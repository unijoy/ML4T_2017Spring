{
 "cells": [
  {
   "cell_type": "code",
   "execution_count": 107,
   "metadata": {
    "collapsed": false
   },
   "outputs": [
    {
     "name": "stdout",
     "output_type": "stream",
     "text": [
      "Start Date: 2010-01-01 00:00:00\n",
      "End Date: 2010-12-31 00:00:00\n",
      "Symbols: ['GOOG', 'AAPL', 'GLD', 'XOM']\n",
      "Allocations: [0.2, 0.3, 0.4, 0.1]\n",
      "Sharpe Ratio: 1.51819243641\n",
      "Volatility (stdev of daily returns): 0.0100104028\n",
      "Average Daily Return: 0.000957366234238\n",
      "Cumulative Return: 0.255646784534\n"
     ]
    },
    {
     "data": {
      "image/png": "[encoded data removed]",
      "text/plain": [
       "<matplotlib.figure.Figure at 0x11551f510>"
      ]
     },
     "metadata": {},
     "output_type": "display_data"
    }
   ],
   "source": [
    "%matplotlib inline\n",
    "\n",
    "\"\"\"MC1-P1: Analyze a portfolio.\"\"\"\n",
    "\n",
    "import pandas as pd\n",
    "import matplotlib.pyplot as plt\n",
    "import numpy as np\n",
    "import datetime as dt\n",
    "from util import get_data, plot_data\n",
    "\n",
    "# This is the function that will be tested by the autograder\n",
    "# The student must update this code to properly implement the functionality\n",
    "def assess_portfolio(sd = dt.datetime(2008,1,1), ed = dt.datetime(2009,1,1), \\\n",
    "    syms = ['GOOG','AAPL','GLD','XOM'], \\\n",
    "    allocs=[0.1,0.2,0.3,0.4], \\\n",
    "    sv=1000000, rfr=0.0, sf=252.0, \\\n",
    "    gen_plot=False):\n",
    "\n",
    "    import math \n",
    "    \n",
    "    # Read in adjusted closing prices for given symbols, date range\n",
    "    dates = pd.date_range(sd, ed)\n",
    "    prices_all = get_data(syms, dates)  # automatically adds SPY\n",
    "    prices = prices_all[syms]  # only portfolio symbols\n",
    "    prices_SPY = prices_all['SPY']  # only SPY, for comparison later\n",
    "\n",
    "    # Get daily portfolio value\n",
    "    port_val = prices_SPY # add code here to compute daily portfolio values\n",
    "    df = prices.copy()\n",
    "    df[1:] = (df[1:]/df[0:-1].values)\n",
    "    for j in range(len(allocs)):\n",
    "        df.ix[0,j] = allocs[j]\n",
    "    \n",
    "    days = prices.shape[0]\n",
    "    for i in range(1,days):\n",
    "        df.ix[i,:] = df.ix[i,:] *df.ix[i-1,:] \n",
    "    df['cumm']= df.sum(axis=1)\n",
    "    df['daily']= (df.ix[1:,'cumm']/df.ix[0:-1,'cumm'].values)-1.\n",
    "    df['daily_rf']= df['daily']-rfr**(1./days)\n",
    "    sr =  math.sqrt(sf)* df['daily_rf'].mean()/df['daily_rf'].std()\n",
    "    cr = df.ix[-1,'cumm']-1\n",
    "    sddr = df.ix[1:,'daily'].std()\n",
    "    adr = df.ix[1:,'daily'].mean()\n",
    "\n",
    "    # Compare daily portfolio value with SPY using a normalized plot\n",
    "    if gen_plot:\n",
    "        # add code to plot here\n",
    "        #df_temp = pd.concat([port_val, prices_SPY], keys=['Portfolio', 'SPY'], axis=1)\n",
    "        df_temp = df['cumm']\n",
    "        df_temp.plot()\n",
    "\n",
    "    # Add code here to properly compute end value\n",
    "    ev = sv*cr\n",
    "\n",
    "    return cr, adr, sddr, sr, ev\n",
    "\n",
    "def test_code():\n",
    "    # This code WILL NOT be tested by the auto grader\n",
    "    # It is only here to help you set up and test your code\n",
    "\n",
    "    # Define input parameters\n",
    "    # Note that ALL of these values will be set to different values by\n",
    "    # the autograder!\n",
    "    start_date = dt.datetime(2010,1,1)\n",
    "    end_date = dt.datetime(2010,12,31)\n",
    "    symbols = ['GOOG', 'AAPL', 'GLD', 'XOM']\n",
    "    allocations = [0.2, 0.3, 0.4, 0.1]\n",
    "    start_val = 1000000  \n",
    "    risk_free_rate = 0.0\n",
    "    sample_freq = 252\n",
    "\n",
    "    # Assess the portfolio\n",
    "    cr, adr, sddr, sr, ev = assess_portfolio(sd = start_date, ed = end_date,\\\n",
    "        syms = symbols, \\\n",
    "        allocs = allocations,\\\n",
    "        sv = start_val, \\\n",
    "        rfr=risk_free_rate,gen_plot = True)\n",
    "\n",
    "    # Print statistics\n",
    "    print \"Start Date:\", start_date\n",
    "    print \"End Date:\", end_date\n",
    "    print \"Symbols:\", symbols\n",
    "    print \"Allocations:\", allocations\n",
    "    print \"Sharpe Ratio:\", sr\n",
    "    print \"Volatility (stdev of daily returns):\", sddr\n",
    "    print \"Average Daily Return:\", adr\n",
    "    print \"Cumulative Return:\", cr\n",
    "\n",
    "    '''\n",
    "    Start Date: 2010-01-01\n",
    "End Date: 2010-12-31\n",
    "Symbols: ['GOOG', 'AAPL', 'GLD', 'XOM']\n",
    "Allocations: [0.2, 0.3, 0.4, 0.1]\n",
    "Sharpe Ratio: 1.51819243641\n",
    "Volatility (stdev of daily returns): 0.0100104028\n",
    "Average Daily Return: 0.000957366234238\n",
    "Cumulative Return: 0.255646784534\n",
    "    '''\n",
    "if __name__ == \"__main__\":\n",
    "    test_code()\n",
    "\n"
   ]
  },
  {
   "cell_type": "code",
   "execution_count": null,
   "metadata": {
    "collapsed": true
   },
   "outputs": [],
   "source": []
  }
 ],
 "metadata": {
  "kernelspec": {
   "display_name": "Python 2",
   "language": "python",
   "name": "python2"
  },
  "language_info": {
   "codemirror_mode": {
    "name": "ipython",
    "version": 2
   },
   "file_extension": ".py",
   "mimetype": "text/x-python",
   "name": "python",
   "nbconvert_exporter": "python",
   "pygments_lexer": "ipython2",
   "version": "2.7.9"
  }
 },
 "nbformat": 4,
 "nbformat_minor": 0
}
